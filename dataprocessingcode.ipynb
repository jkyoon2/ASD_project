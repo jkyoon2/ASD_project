{
 "cells": [
  {
   "cell_type": "code",
   "execution_count": 35,
   "metadata": {},
   "outputs": [
    {
     "name": "stdout",
     "output_type": "stream",
     "text": [
      "MSDL has 39 ROIs, part of the following networks :\n",
      "['Ant IPS' 'Aud' 'Basal' 'Cereb' 'Cing-Ins' 'D Att' 'DMN' 'Dors PCC'\n",
      " 'L V Att' 'Language' 'Motor' 'Occ post' 'R V Att' 'Salience' 'Striate'\n",
      " 'Temporal' 'Vis Sec'].\n",
      "MSDL has 39 ROIs, part of the following networks :\n",
      "['Ant IPS' 'Aud' 'Basal' 'Cereb' 'Cing-Ins' 'D Att' 'DMN' 'Dors PCC'\n",
      " 'L V Att' 'Language' 'Motor' 'Occ post' 'R V Att' 'Salience' 'Striate'\n",
      " 'Temporal' 'Vis Sec'].\n"
     ]
    }
   ],
   "source": [
    "import pandas as pd\n",
    "import nibabel as nib\n",
    "import pandas as pd\n",
    "import nilearn\n",
    "import numpy as np\n",
    "import os\n",
    "\n",
    "from nilearn import maskers\n",
    "from nilearn import datasets\n",
    "\n",
    "def nib_to_csv(filepath):\n",
    "   img=nib.load(filepath)\n",
    "   filename=os.path.basename(filepath)\n",
    "\n",
    "   msdl_atlas = datasets.fetch_atlas_msdl()\n",
    "\n",
    "   msdl_coords = msdl_atlas.region_coords\n",
    "   n_regions = len(msdl_coords)\n",
    "\n",
    "   print(f'MSDL has {n_regions} ROIs, part of the following networks :\\n{np.unique(msdl_atlas.networks)}.')\n",
    "\n",
    "   masker = maskers.NiftiMapsMasker(msdl_atlas.maps, resampling_target=\"data\",t_r=2, detrend=True,low_pass=0.1, high_pass=0.01).fit()\n",
    "\n",
    "   roi_time_series = masker.transform(img)\n",
    "   atlas_table=pd.DataFrame(roi_time_series)\n",
    "   atlas_table.to_csv(filename+\".csv\", mode='a', header=False) \n",
    "    \n",
    "path = input('경로 복사 붙여넣기.: ')\n",
    "file_list = os.listdir(path)\n",
    "file_list_py = [file for file in file_list if file.endswith('.nii.gz')]\n",
    "\n",
    "for i in file_list_py:\n",
    "    nib_to_csv(path+'\\\\'+i)\n",
    "    \n",
    "\n",
    "\n",
    "\n"
   ]
  }
 ],
 "metadata": {
  "kernelspec": {
   "display_name": "base",
   "language": "python",
   "name": "python3"
  },
  "language_info": {
   "codemirror_mode": {
    "name": "ipython",
    "version": 3
   },
   "file_extension": ".py",
   "mimetype": "text/x-python",
   "name": "python",
   "nbconvert_exporter": "python",
   "pygments_lexer": "ipython3",
   "version": "3.9.12"
  },
  "orig_nbformat": 4
 },
 "nbformat": 4,
 "nbformat_minor": 2
}
